{
 "cells": [
  {
   "cell_type": "code",
   "execution_count": 5,
   "id": "9e84e80f-ebd1-4ab1-b439-f8c85daf1bd2",
   "metadata": {},
   "outputs": [],
   "source": [
    "# importing mandatory libraries\n",
    "import pandas as pd\n",
    "import numpy as np\n",
    "import requests as r\n",
    "from datetime import datetime as dt\n",
    "import mysql.connector"
   ]
  },
  {
   "cell_type": "code",
   "execution_count": 6,
   "id": "10964f3e-2eae-4aff-96cb-4adc46877a90",
   "metadata": {},
   "outputs": [
    {
     "name": "stdout",
     "output_type": "stream",
     "text": [
      "✅ Fetched data for Frankfurt\n",
      "✅ Fetched data for Berlin\n",
      "✅ Fetched data for Munich\n",
      "✅ Fetched data for Sargodha\n",
      "✅ Fetched data for Schmitten\n",
      "✅ Fetched data for Wurzburg\n",
      "✅ Fetched data for Steinbach\n",
      "✅ Fetched data for Lancaster\n",
      "📦 All data inserted into MySQL.\n"
     ]
    }
   ],
   "source": [
    "#api key for api connection\n",
    "api_key='api_key'\n",
    "\n",
    "\n",
    "# Database Credentials\n",
    "host='localhost',\n",
    "user='root',\n",
    "password='1234',\n",
    "database='data_analysis'\n",
    "\n",
    "\n",
    "\n",
    "#sets up a session with mysql server.\n",
    "conn = mysql.connector.connect(\n",
    "    host='localhost',\n",
    "    user='root',\n",
    "    password='1234',\n",
    "    database='data_analysis'\n",
    ")\n",
    "\n",
    "# data insertion into database\n",
    "cursor = conn.cursor()\n",
    "query = \"\"\"\n",
    "INSERT INTO weatherdata (city, temperature, humidity, description, timestamp)\n",
    "VALUES (%s, %s, %s, %s, %s)\n",
    "\"\"\"\n",
    "\n",
    "\n",
    "# fetching data from API\n",
    "data_to_insert = []\n",
    "\n",
    "cities = ['Frankfurt', 'Berlin', 'Munich', 'Sargodha','Schmitten','Wurzburg','Steinbach','Lancaster']\n",
    "\n",
    "for city in cities:\n",
    "    response = r.get(f\"https://api.openweathermap.org/data/2.5/weather?q={city}&appid={api_key}&units=metric\")\n",
    "    data = response.json()\n",
    "    \n",
    "    if response.status_code == 200:\n",
    "        city: data['name']\n",
    "        temperature = data['main']['temp']\n",
    "        humidity = data['main']['humidity']\n",
    "        description = data['weather'][0]['description']\n",
    "        timestamp = dt.now().strftime(\"%Y-%m-%d %H:%M:%S\")\n",
    "        data_to_insert.append((city, temperature, humidity, description, timestamp))\n",
    "        print(f\"✅ Fetched data for {city}\")\n",
    "    else:\n",
    "        print(f\"❌ Failed to fetch data for {city}: {data.get('message', 'Unknown error')}\")\n",
    "if data_to_insert:\n",
    "    cursor.executemany(query, data_to_insert)\n",
    "    conn.commit()\n",
    "    print(\"📦 All data inserted into MySQL.\")\n",
    "else:\n",
    "    print(\"❌ No data to insert.\")\n",
    "\n",
    "# Close the connection\n",
    "conn.close()\n",
    "        \n",
    "\n"
   ]
  },
  {
   "cell_type": "code",
   "execution_count": null,
   "id": "df269049-2b87-4f6b-800c-9568b25ef910",
   "metadata": {},
   "outputs": [],
   "source": []
  }
 ],
 "metadata": {
  "kernelspec": {
   "display_name": "Python 3 (ipykernel)",
   "language": "python",
   "name": "python3"
  },
  "language_info": {
   "codemirror_mode": {
    "name": "ipython",
    "version": 3
   },
   "file_extension": ".py",
   "mimetype": "text/x-python",
   "name": "python",
   "nbconvert_exporter": "python",
   "pygments_lexer": "ipython3",
   "version": "3.13.2"
  }
 },
 "nbformat": 4,
 "nbformat_minor": 5
}
